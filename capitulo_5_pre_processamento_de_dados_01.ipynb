{
  "nbformat": 4,
  "nbformat_minor": 0,
  "metadata": {
    "kernelspec": {
      "display_name": "Python 3",
      "language": "python",
      "name": "python3"
    },
    "language_info": {
      "codemirror_mode": {
        "name": "ipython",
        "version": 3
      },
      "file_extension": ".py",
      "mimetype": "text/x-python",
      "name": "python",
      "nbconvert_exporter": "python",
      "pygments_lexer": "ipython3",
      "version": "3.6.0"
    },
    "colab": {
      "name": "capitulo-5-pre-processamento-de-dados-01.ipynb",
      "version": "0.3.2",
      "provenance": [],
      "include_colab_link": true
    }
  },
  "cells": [
    {
      "cell_type": "markdown",
      "metadata": {
        "id": "view-in-github",
        "colab_type": "text"
      },
      "source": [
        "<a href=\"https://colab.research.google.com/github/robsonpiere/ds-minerando-dados-exercicios/blob/master/capitulo_5_pre_processamento_de_dados_01.ipynb\" target=\"_parent\"><img src=\"https://colab.research.google.com/assets/colab-badge.svg\" alt=\"Open In Colab\"/></a>"
      ]
    },
    {
      "cell_type": "markdown",
      "metadata": {
        "id": "oi5-l84PmhR9",
        "colab_type": "text"
      },
      "source": [
        "# Curso Data Science do Zero - Minerando Dados"
      ]
    },
    {
      "cell_type": "markdown",
      "metadata": {
        "id": "hNcUqv_pmhR-",
        "colab_type": "text"
      },
      "source": [
        "## 5º Capítulo: Pre-processamento de Dados ##"
      ]
    },
    {
      "cell_type": "markdown",
      "metadata": {
        "id": "pfpC__6gmhR_",
        "colab_type": "text"
      },
      "source": [
        "### Tratamento de Dados - Detecção de Anomalias"
      ]
    },
    {
      "cell_type": "markdown",
      "metadata": {
        "id": "xI7Iu_C6mhSA",
        "colab_type": "text"
      },
      "source": [
        "##### dataset para simulação de anomalias"
      ]
    },
    {
      "cell_type": "code",
      "metadata": {
        "id": "okH45KLWmhSB",
        "colab_type": "code",
        "colab": {
          "base_uri": "https://localhost:8080/",
          "height": 136
        },
        "outputId": "17b9c0a9-79d1-410d-dc7b-57068879c1ef"
      },
      "source": [
        "import numpy\n",
        "\n",
        "dados = [10, 386, 479, 627, 20, 523, 482, 483, 542, 699, 535, 617, 577, 471, 615, 583, 441, 562, 563, 527, \n",
        "       453, 530, 433, 541, 585, 704, 443, 569, 430, 637, 331, 511, 552, 496, 484, 566, 554, 472, 335, \n",
        "       440, 579, 341, 545, 615, 548, 604, 439, 556, 442, 461, 624, 611, 444, 578, 405, 487, 490, 496, 398, \n",
        "       512, 422, 455, 449, 432, 607, 679, 434, 597, 639, 565, 415, 486, 668, 414, 665, 763, 557, 304, 404, 454, \n",
        "       689, 610, 483, 441, 657, 590, 492, 476, 437, 483, 529, 363, 711, 543,30, 1300, 1350, 1400]\n",
        "\n",
        "dados = numpy.array(dados)\n",
        "print(dados)"
      ],
      "execution_count": 1,
      "outputs": [
        {
          "output_type": "stream",
          "text": [
            "[  10  386  479  627   20  523  482  483  542  699  535  617  577  471\n",
            "  615  583  441  562  563  527  453  530  433  541  585  704  443  569\n",
            "  430  637  331  511  552  496  484  566  554  472  335  440  579  341\n",
            "  545  615  548  604  439  556  442  461  624  611  444  578  405  487\n",
            "  490  496  398  512  422  455  449  432  607  679  434  597  639  565\n",
            "  415  486  668  414  665  763  557  304  404  454  689  610  483  441\n",
            "  657  590  492  476  437  483  529  363  711  543   30 1300 1350 1400]\n"
          ],
          "name": "stdout"
        }
      ]
    },
    {
      "cell_type": "markdown",
      "metadata": {
        "id": "bcP8ED-cmhSF",
        "colab_type": "text"
      },
      "source": [
        "#### visualizando os valores anômalos"
      ]
    },
    {
      "cell_type": "code",
      "metadata": {
        "id": "G9BXCXB_mhSG",
        "colab_type": "code",
        "colab": {
          "base_uri": "https://localhost:8080/",
          "height": 274
        },
        "outputId": "8d1d3c86-6cf2-42ef-f1aa-f8e11290d3c8"
      },
      "source": [
        "%matplotlib inline\n",
        "import seaborn as sns\n",
        "sns.set(style=\"whitegrid\", color_codes=True)\n",
        "sns.boxplot(data=dados);"
      ],
      "execution_count": 2,
      "outputs": [
        {
          "output_type": "display_data",
          "data": {
            "image/png": "[encoded data removed]",
            "text/plain": [
              "<Figure size 432x288 with 1 Axes>"
            ]
          },
          "metadata": {
            "tags": []
          }
        }
      ]
    },
    {
      "cell_type": "markdown",
      "metadata": {
        "id": "ja7YrlDMmhSJ",
        "colab_type": "text"
      },
      "source": [
        "##### verificando o valor da média"
      ]
    },
    {
      "cell_type": "code",
      "metadata": {
        "scrolled": true,
        "id": "3Gb0dknNmhSJ",
        "colab_type": "code",
        "colab": {
          "base_uri": "https://localhost:8080/",
          "height": 34
        },
        "outputId": "dff264c6-8671-4d73-f1f0-c7e914f2b277"
      },
      "source": [
        "numpy.mean(dados, axis=0)"
      ],
      "execution_count": 3,
      "outputs": [
        {
          "output_type": "execute_result",
          "data": {
            "text/plain": [
              "530.3673469387755"
            ]
          },
          "metadata": {
            "tags": []
          },
          "execution_count": 3
        }
      ]
    },
    {
      "cell_type": "markdown",
      "metadata": {
        "id": "jdbB5AZXmhSM",
        "colab_type": "text"
      },
      "source": [
        "##### verificando o valor de desvio padrão"
      ]
    },
    {
      "cell_type": "code",
      "metadata": {
        "scrolled": true,
        "id": "q21IDl1_mhSN",
        "colab_type": "code",
        "colab": {
          "base_uri": "https://localhost:8080/",
          "height": 34
        },
        "outputId": "9b9c4763-d3a6-4e4e-a078-e373d1548333"
      },
      "source": [
        "numpy.std(dados, axis=0)"
      ],
      "execution_count": 4,
      "outputs": [
        {
          "output_type": "execute_result",
          "data": {
            "text/plain": [
              "192.51166875607043"
            ]
          },
          "metadata": {
            "tags": []
          },
          "execution_count": 4
        }
      ]
    },
    {
      "cell_type": "markdown",
      "metadata": {
        "id": "oXl0SPIsmhSP",
        "colab_type": "text"
      },
      "source": [
        "##### fronteira de valor abaixo da média em duas vezes o desvio padrão"
      ]
    },
    {
      "cell_type": "code",
      "metadata": {
        "id": "BUiwzrLPmhSQ",
        "colab_type": "code",
        "colab": {}
      },
      "source": [
        "mean = numpy.mean(dados, axis=0)\n",
        "sd = numpy.std(dados, axis=0)"
      ],
      "execution_count": 0,
      "outputs": []
    },
    {
      "cell_type": "code",
      "metadata": {
        "scrolled": false,
        "id": "iB1RWrz_mhST",
        "colab_type": "code",
        "colab": {
          "base_uri": "https://localhost:8080/",
          "height": 34
        },
        "outputId": "651bf837-4f6c-424e-9081-9bf411ac0ad4"
      },
      "source": [
        "mean - 2 * sd"
      ],
      "execution_count": 6,
      "outputs": [
        {
          "output_type": "execute_result",
          "data": {
            "text/plain": [
              "145.34400942663467"
            ]
          },
          "metadata": {
            "tags": []
          },
          "execution_count": 6
        }
      ]
    },
    {
      "cell_type": "markdown",
      "metadata": {
        "id": "GydYoVHymhSV",
        "colab_type": "text"
      },
      "source": [
        "##### fronteira de valores acima da média em duas vezes o desvio padrão"
      ]
    },
    {
      "cell_type": "code",
      "metadata": {
        "scrolled": true,
        "id": "XqzO03uHmhSW",
        "colab_type": "code",
        "colab": {
          "base_uri": "https://localhost:8080/",
          "height": 34
        },
        "outputId": "1f8da912-ac43-443b-b6fb-e607d2b044b9"
      },
      "source": [
        "mean + 2 * sd"
      ],
      "execution_count": 7,
      "outputs": [
        {
          "output_type": "execute_result",
          "data": {
            "text/plain": [
              "915.3906844509164"
            ]
          },
          "metadata": {
            "tags": []
          },
          "execution_count": 7
        }
      ]
    },
    {
      "cell_type": "markdown",
      "metadata": {
        "id": "tdJahLBOmhSY",
        "colab_type": "text"
      },
      "source": [
        "##### listando os valores abaixo da média em duas vezes o desvio padrão"
      ]
    },
    {
      "cell_type": "code",
      "metadata": {
        "scrolled": true,
        "id": "3yWyT8k4mhSZ",
        "colab_type": "code",
        "colab": {
          "base_uri": "https://localhost:8080/",
          "height": 68
        },
        "outputId": "6247758b-f7a7-464f-eccd-a6c976faa257"
      },
      "source": [
        "for x in dados:\n",
        "        if (x < mean - 2 * sd):\n",
        "            print(x)"
      ],
      "execution_count": 8,
      "outputs": [
        {
          "output_type": "stream",
          "text": [
            "10\n",
            "20\n",
            "30\n"
          ],
          "name": "stdout"
        }
      ]
    },
    {
      "cell_type": "markdown",
      "metadata": {
        "id": "kWav3n5QmhSb",
        "colab_type": "text"
      },
      "source": [
        "##### listando os valores acima da média em duas vezes o desvio padrão"
      ]
    },
    {
      "cell_type": "code",
      "metadata": {
        "scrolled": true,
        "id": "TmpTtfrpmhSc",
        "colab_type": "code",
        "colab": {
          "base_uri": "https://localhost:8080/",
          "height": 68
        },
        "outputId": "cb60ae74-2cd4-49e6-cff2-543995e4a9bd"
      },
      "source": [
        "for x in dados:\n",
        "        if (x > mean + 2 * sd):\n",
        "            print(x)"
      ],
      "execution_count": 9,
      "outputs": [
        {
          "output_type": "stream",
          "text": [
            "1300\n",
            "1350\n",
            "1400\n"
          ],
          "name": "stdout"
        }
      ]
    },
    {
      "cell_type": "markdown",
      "metadata": {
        "id": "3fvBI-FpmhSf",
        "colab_type": "text"
      },
      "source": [
        "#### removendo os valores muito abaixo da média (10,20,30)"
      ]
    },
    {
      "cell_type": "code",
      "metadata": {
        "id": "CuTQ-VTvmhSf",
        "colab_type": "code",
        "colab": {
          "base_uri": "https://localhost:8080/",
          "height": 54
        },
        "outputId": "990ef40f-e234-4503-b3b4-fd734ec630cd"
      },
      "source": [
        "dados = [x for x in dados if (x > mean - 2 * sd)]\n",
        "print(dados)"
      ],
      "execution_count": 10,
      "outputs": [
        {
          "output_type": "stream",
          "text": [
            "[386, 479, 627, 523, 482, 483, 542, 699, 535, 617, 577, 471, 615, 583, 441, 562, 563, 527, 453, 530, 433, 541, 585, 704, 443, 569, 430, 637, 331, 511, 552, 496, 484, 566, 554, 472, 335, 440, 579, 341, 545, 615, 548, 604, 439, 556, 442, 461, 624, 611, 444, 578, 405, 487, 490, 496, 398, 512, 422, 455, 449, 432, 607, 679, 434, 597, 639, 565, 415, 486, 668, 414, 665, 763, 557, 304, 404, 454, 689, 610, 483, 441, 657, 590, 492, 476, 437, 483, 529, 363, 711, 543, 1300, 1350, 1400]\n"
          ],
          "name": "stdout"
        }
      ]
    },
    {
      "cell_type": "markdown",
      "metadata": {
        "id": "cNvLao06mhSi",
        "colab_type": "text"
      },
      "source": [
        "#### removendo os valores muito acima da média (1300,1350,1400)"
      ]
    },
    {
      "cell_type": "code",
      "metadata": {
        "id": "-gwdmFysmhSi",
        "colab_type": "code",
        "colab": {
          "base_uri": "https://localhost:8080/",
          "height": 54
        },
        "outputId": "be6a2a5a-3aa6-453c-e530-f272224b5252"
      },
      "source": [
        "dados = [x for x in dados if (x < mean + 2 * sd)]\n",
        "print(dados)"
      ],
      "execution_count": 11,
      "outputs": [
        {
          "output_type": "stream",
          "text": [
            "[386, 479, 627, 523, 482, 483, 542, 699, 535, 617, 577, 471, 615, 583, 441, 562, 563, 527, 453, 530, 433, 541, 585, 704, 443, 569, 430, 637, 331, 511, 552, 496, 484, 566, 554, 472, 335, 440, 579, 341, 545, 615, 548, 604, 439, 556, 442, 461, 624, 611, 444, 578, 405, 487, 490, 496, 398, 512, 422, 455, 449, 432, 607, 679, 434, 597, 639, 565, 415, 486, 668, 414, 665, 763, 557, 304, 404, 454, 689, 610, 483, 441, 657, 590, 492, 476, 437, 483, 529, 363, 711, 543]\n"
          ],
          "name": "stdout"
        }
      ]
    },
    {
      "cell_type": "markdown",
      "metadata": {
        "id": "kI-OWKfemhSl",
        "colab_type": "text"
      },
      "source": [
        "#### visualizando os valores novamente"
      ]
    },
    {
      "cell_type": "code",
      "metadata": {
        "scrolled": true,
        "id": "SvSWBR-EmhSm",
        "colab_type": "code",
        "colab": {
          "base_uri": "https://localhost:8080/",
          "height": 274
        },
        "outputId": "ddd164a1-79ba-4e7a-de64-3e06da27b125"
      },
      "source": [
        "sns.boxplot(data=dados);"
      ],
      "execution_count": 12,
      "outputs": [
        {
          "output_type": "display_data",
          "data": {
            "image/png": "[encoded data removed]",
            "text/plain": [
              "<Figure size 432x288 with 1 Axes>"
            ]
          },
          "metadata": {
            "tags": []
          }
        }
      ]
    }
  ]
}