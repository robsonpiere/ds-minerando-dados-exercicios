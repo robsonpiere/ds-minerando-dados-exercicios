{
  "nbformat": 4,
  "nbformat_minor": 0,
  "metadata": {
    "colab": {
      "name": "01_Numpy.ipynb",
      "provenance": [],
      "toc_visible": true,
      "authorship_tag": "ABX9TyPzL0XtnvHH9aFC7cY8a0ki",
      "include_colab_link": true
    },
    "kernelspec": {
      "name": "python3",
      "display_name": "Python 3"
    }
  },
  "cells": [
    {
      "cell_type": "markdown",
      "metadata": {
        "id": "view-in-github",
        "colab_type": "text"
      },
      "source": [
        "<a href=\"https://colab.research.google.com/github/robsonpiere/ds-minerando-dados-exercicios/blob/master/modulo_05/01_Numpy.ipynb\" target=\"_parent\"><img src=\"https://colab.research.google.com/assets/colab-badge.svg\" alt=\"Open In Colab\"/></a>"
      ]
    },
    {
      "cell_type": "markdown",
      "metadata": {
        "id": "F6kf3w2I4dTZ",
        "colab_type": "text"
      },
      "source": [
        "# Numpy #"
      ]
    },
    {
      "cell_type": "code",
      "metadata": {
        "id": "LxjRzMHU2U3a",
        "colab_type": "code",
        "colab": {}
      },
      "source": [
        "#importação da biblioteca\n",
        "import numpy as np"
      ],
      "execution_count": 0,
      "outputs": []
    },
    {
      "cell_type": "code",
      "metadata": {
        "id": "SpqMQhm32Z7p",
        "colab_type": "code",
        "colab": {}
      },
      "source": [
        "# criando array de uma dimensão\n",
        "one_dim = np.array([1,2,3,4])"
      ],
      "execution_count": 0,
      "outputs": []
    },
    {
      "cell_type": "code",
      "metadata": {
        "id": "oGXHrxU53Nop",
        "colab_type": "code",
        "outputId": "cea5803e-3734-42b6-a1ef-ed903dd77c00",
        "colab": {
          "base_uri": "https://localhost:8080/",
          "height": 35
        }
      },
      "source": [
        "#exibindo o tipo \n",
        "type(one_dim)"
      ],
      "execution_count": 3,
      "outputs": [
        {
          "output_type": "execute_result",
          "data": {
            "text/plain": [
              "numpy.ndarray"
            ]
          },
          "metadata": {
            "tags": []
          },
          "execution_count": 3
        }
      ]
    },
    {
      "cell_type": "code",
      "metadata": {
        "id": "f69PEpYy3ZEA",
        "colab_type": "code",
        "outputId": "045ef1ee-e0c7-4244-cc3d-af5824dbf18d",
        "colab": {
          "base_uri": "https://localhost:8080/",
          "height": 35
        }
      },
      "source": [
        "#exibindo o número de dimensões\n",
        "one_dim.ndim"
      ],
      "execution_count": 4,
      "outputs": [
        {
          "output_type": "execute_result",
          "data": {
            "text/plain": [
              "1"
            ]
          },
          "metadata": {
            "tags": []
          },
          "execution_count": 4
        }
      ]
    },
    {
      "cell_type": "code",
      "metadata": {
        "id": "xH3nJesH3o8h",
        "colab_type": "code",
        "colab": {}
      },
      "source": [
        "#array de duas dimensoes\n",
        "two_dim = np.array([(1,2,3), (4,5,6)])"
      ],
      "execution_count": 0,
      "outputs": []
    },
    {
      "cell_type": "code",
      "metadata": {
        "id": "fFrIkNK636F7",
        "colab_type": "code",
        "outputId": "f3a7ab72-79ee-45c8-d6e1-b7b7df565ac0",
        "colab": {
          "base_uri": "https://localhost:8080/",
          "height": 54
        }
      },
      "source": [
        "two_dim"
      ],
      "execution_count": 6,
      "outputs": [
        {
          "output_type": "execute_result",
          "data": {
            "text/plain": [
              "array([[1, 2, 3],\n",
              "       [4, 5, 6]])"
            ]
          },
          "metadata": {
            "tags": []
          },
          "execution_count": 6
        }
      ]
    },
    {
      "cell_type": "code",
      "metadata": {
        "id": "O_5_9g5E3_gY",
        "colab_type": "code",
        "outputId": "a82495e2-d525-455d-f1af-bb989fc37c28",
        "colab": {
          "base_uri": "https://localhost:8080/",
          "height": 109
        }
      },
      "source": [
        "#valores randomicos\n",
        "np.random.random((5,2))"
      ],
      "execution_count": 7,
      "outputs": [
        {
          "output_type": "execute_result",
          "data": {
            "text/plain": [
              "array([[0.16429184, 0.11066297],\n",
              "       [0.79651796, 0.13593284],\n",
              "       [0.8614699 , 0.46985983],\n",
              "       [0.7505331 , 0.45927349],\n",
              "       [0.90580808, 0.53903692]])"
            ]
          },
          "metadata": {
            "tags": []
          },
          "execution_count": 7
        }
      ]
    },
    {
      "cell_type": "code",
      "metadata": {
        "id": "woTbfSHN5RQC",
        "colab_type": "code",
        "outputId": "e792895d-d0d6-4e4a-8ee0-0b9a87595c39",
        "colab": {
          "base_uri": "https://localhost:8080/",
          "height": 35
        }
      },
      "source": [
        "# array esparço de 10 a 50 pulando de 5 em 5\n",
        "np.arange(10,50,5)"
      ],
      "execution_count": 8,
      "outputs": [
        {
          "output_type": "execute_result",
          "data": {
            "text/plain": [
              "array([10, 15, 20, 25, 30, 35, 40, 45])"
            ]
          },
          "metadata": {
            "tags": []
          },
          "execution_count": 8
        }
      ]
    },
    {
      "cell_type": "code",
      "metadata": {
        "id": "9U2qSPTDxBT6",
        "colab_type": "code",
        "outputId": "716f51a4-25b0-47ff-cfdb-02b891595fb2",
        "colab": {
          "base_uri": "https://localhost:8080/",
          "height": 35
        }
      },
      "source": [
        "#array linear de 0 a 2 no total de 9 elementos\n",
        "np.linspace(0,2,9)"
      ],
      "execution_count": 9,
      "outputs": [
        {
          "output_type": "execute_result",
          "data": {
            "text/plain": [
              "array([0.  , 0.25, 0.5 , 0.75, 1.  , 1.25, 1.5 , 1.75, 2.  ])"
            ]
          },
          "metadata": {
            "tags": []
          },
          "execution_count": 9
        }
      ]
    },
    {
      "cell_type": "code",
      "metadata": {
        "id": "Zwkv2alQxQmm",
        "colab_type": "code",
        "outputId": "54b79251-796c-47e2-b3ac-f56431ae2ae4",
        "colab": {
          "base_uri": "https://localhost:8080/",
          "height": 72
        }
      },
      "source": [
        "# coleção com zeros\n",
        "np.zeros([3,4])"
      ],
      "execution_count": 10,
      "outputs": [
        {
          "output_type": "execute_result",
          "data": {
            "text/plain": [
              "array([[0., 0., 0., 0.],\n",
              "       [0., 0., 0., 0.],\n",
              "       [0., 0., 0., 0.]])"
            ]
          },
          "metadata": {
            "tags": []
          },
          "execution_count": 10
        }
      ]
    },
    {
      "cell_type": "markdown",
      "metadata": {
        "id": "w7HEK_GK5VHM",
        "colab_type": "text"
      },
      "source": [
        "## Diferenças entre listas e arrays numpy ##"
      ]
    },
    {
      "cell_type": "code",
      "metadata": {
        "id": "tUGLO2jExhIG",
        "colab_type": "code",
        "colab": {}
      },
      "source": [
        "#ciação de lista\n",
        "lista = [1,2,3]"
      ],
      "execution_count": 0,
      "outputs": []
    },
    {
      "cell_type": "code",
      "metadata": {
        "id": "FYAhG8cm14oZ",
        "colab_type": "code",
        "outputId": "906aeccf-7b3f-4ebb-9fa4-d8f8443e3094",
        "colab": {
          "base_uri": "https://localhost:8080/",
          "height": 35
        }
      },
      "source": [
        "lista"
      ],
      "execution_count": 12,
      "outputs": [
        {
          "output_type": "execute_result",
          "data": {
            "text/plain": [
              "[1, 2, 3]"
            ]
          },
          "metadata": {
            "tags": []
          },
          "execution_count": 12
        }
      ]
    },
    {
      "cell_type": "code",
      "metadata": {
        "id": "CDfheFgAxmoc",
        "colab_type": "code",
        "outputId": "73cec2e4-af84-4bb0-b479-310d1ec72220",
        "colab": {
          "base_uri": "https://localhost:8080/",
          "height": 35
        }
      },
      "source": [
        "lista * 2"
      ],
      "execution_count": 13,
      "outputs": [
        {
          "output_type": "execute_result",
          "data": {
            "text/plain": [
              "[1, 2, 3, 1, 2, 3]"
            ]
          },
          "metadata": {
            "tags": []
          },
          "execution_count": 13
        }
      ]
    },
    {
      "cell_type": "code",
      "metadata": {
        "id": "hhIHWAw_17dP",
        "colab_type": "code",
        "colab": {}
      },
      "source": [
        "# conversão de lista pra array numpy\n",
        "lista = np.array(lista)"
      ],
      "execution_count": 0,
      "outputs": []
    },
    {
      "cell_type": "code",
      "metadata": {
        "id": "FUjlUnqG2EhE",
        "colab_type": "code",
        "outputId": "200bc8b9-d701-496f-ebc5-81a9c2f470ed",
        "colab": {
          "base_uri": "https://localhost:8080/",
          "height": 35
        }
      },
      "source": [
        "type(lista)"
      ],
      "execution_count": 15,
      "outputs": [
        {
          "output_type": "execute_result",
          "data": {
            "text/plain": [
              "numpy.ndarray"
            ]
          },
          "metadata": {
            "tags": []
          },
          "execution_count": 15
        }
      ]
    },
    {
      "cell_type": "code",
      "metadata": {
        "id": "lmMlKRkQ2Lo5",
        "colab_type": "code",
        "outputId": "43a0d8ef-3642-47ca-b5fd-68af44fbebc1",
        "colab": {
          "base_uri": "https://localhost:8080/",
          "height": 35
        }
      },
      "source": [
        "lista * 2 "
      ],
      "execution_count": 16,
      "outputs": [
        {
          "output_type": "execute_result",
          "data": {
            "text/plain": [
              "array([2, 4, 6])"
            ]
          },
          "metadata": {
            "tags": []
          },
          "execution_count": 16
        }
      ]
    },
    {
      "cell_type": "code",
      "metadata": {
        "id": "n3OMWS0o2SqY",
        "colab_type": "code",
        "colab": {}
      },
      "source": [
        "#exemplo: Calculo do imc\n",
        "pesos = [67,81,120,90]\n",
        "altura = [1.68,1.70,1.75,1.85]"
      ],
      "execution_count": 0,
      "outputs": []
    },
    {
      "cell_type": "code",
      "metadata": {
        "id": "QVy8D4wz2nC0",
        "colab_type": "code",
        "outputId": "dd205451-75ce-4595-8dc6-3d9e6fa6aca9",
        "colab": {
          "base_uri": "https://localhost:8080/",
          "height": 191
        }
      },
      "source": [
        "#vai gerar erro\n",
        "pesos / altura ** 2"
      ],
      "execution_count": 18,
      "outputs": [
        {
          "output_type": "error",
          "ename": "TypeError",
          "evalue": "ignored",
          "traceback": [
            "\u001b[0;31m---------------------------------------------------------------------------\u001b[0m",
            "\u001b[0;31mTypeError\u001b[0m                                 Traceback (most recent call last)",
            "\u001b[0;32m<ipython-input-18-90f8e1a12843>\u001b[0m in \u001b[0;36m<module>\u001b[0;34m()\u001b[0m\n\u001b[1;32m      1\u001b[0m \u001b[0;31m#vai gerar erro\u001b[0m\u001b[0;34m\u001b[0m\u001b[0;34m\u001b[0m\u001b[0;34m\u001b[0m\u001b[0m\n\u001b[0;32m----> 2\u001b[0;31m \u001b[0mpesos\u001b[0m \u001b[0;34m/\u001b[0m \u001b[0maltura\u001b[0m \u001b[0;34m**\u001b[0m \u001b[0;36m2\u001b[0m\u001b[0;34m\u001b[0m\u001b[0;34m\u001b[0m\u001b[0m\n\u001b[0m",
            "\u001b[0;31mTypeError\u001b[0m: unsupported operand type(s) for ** or pow(): 'list' and 'int'"
          ]
        }
      ]
    },
    {
      "cell_type": "code",
      "metadata": {
        "id": "0ecgpxun2v_p",
        "colab_type": "code",
        "colab": {}
      },
      "source": [
        "#transformando em numpy\n",
        "pesos = np.array(pesos)\n",
        "altura = np.array(altura)"
      ],
      "execution_count": 0,
      "outputs": []
    },
    {
      "cell_type": "code",
      "metadata": {
        "id": "07ZJfXYp2_ba",
        "colab_type": "code",
        "outputId": "cf1ff97c-a863-4ec6-f327-a9e696f7f3d9",
        "colab": {
          "base_uri": "https://localhost:8080/",
          "height": 35
        }
      },
      "source": [
        "#agora é possível\n",
        "pesos / altura ** 2"
      ],
      "execution_count": 20,
      "outputs": [
        {
          "output_type": "execute_result",
          "data": {
            "text/plain": [
              "array([23.73866213, 28.02768166, 39.18367347, 26.29656684])"
            ]
          },
          "metadata": {
            "tags": []
          },
          "execution_count": 20
        }
      ]
    },
    {
      "cell_type": "code",
      "metadata": {
        "id": "WmmHc0YE3DVN",
        "colab_type": "code",
        "outputId": "df65ead1-348c-4e0f-ff00-5570fe2ecc7a",
        "colab": {
          "base_uri": "https://localhost:8080/",
          "height": 35
        }
      },
      "source": [
        "#somente valores numericos\n",
        "a = np.array([1,3, 'Casa', True])\n",
        "a"
      ],
      "execution_count": 21,
      "outputs": [
        {
          "output_type": "execute_result",
          "data": {
            "text/plain": [
              "array(['1', '3', 'Casa', 'True'], dtype='<U21')"
            ]
          },
          "metadata": {
            "tags": []
          },
          "execution_count": 21
        }
      ]
    },
    {
      "cell_type": "code",
      "metadata": {
        "id": "MiLuRpgq3I6o",
        "colab_type": "code",
        "outputId": "93dbb5c3-4c1a-4e53-9521-c3ccb45d58af",
        "colab": {
          "base_uri": "https://localhost:8080/",
          "height": 191
        }
      },
      "source": [
        "#erro ao tentar multiplicar arrays numpy de tipos não numericos\n",
        "a * 2 "
      ],
      "execution_count": 22,
      "outputs": [
        {
          "output_type": "error",
          "ename": "UFuncTypeError",
          "evalue": "ignored",
          "traceback": [
            "\u001b[0;31m---------------------------------------------------------------------------\u001b[0m",
            "\u001b[0;31mUFuncTypeError\u001b[0m                            Traceback (most recent call last)",
            "\u001b[0;32m<ipython-input-22-3229e5b69e33>\u001b[0m in \u001b[0;36m<module>\u001b[0;34m()\u001b[0m\n\u001b[1;32m      1\u001b[0m \u001b[0;31m#erro ao tentar multiplicar arrays numpy de tipos não numericos\u001b[0m\u001b[0;34m\u001b[0m\u001b[0;34m\u001b[0m\u001b[0;34m\u001b[0m\u001b[0m\n\u001b[0;32m----> 2\u001b[0;31m \u001b[0ma\u001b[0m \u001b[0;34m*\u001b[0m \u001b[0;36m2\u001b[0m\u001b[0;34m\u001b[0m\u001b[0;34m\u001b[0m\u001b[0m\n\u001b[0m",
            "\u001b[0;31mUFuncTypeError\u001b[0m: ufunc 'multiply' did not contain a loop with signature matching types (dtype('<U21'), dtype('<U21')) -> dtype('<U21')"
          ]
        }
      ]
    },
    {
      "cell_type": "markdown",
      "metadata": {
        "id": "LV5zIDHq62NT",
        "colab_type": "text"
      },
      "source": [
        "## Métodos e atributos ##"
      ]
    },
    {
      "cell_type": "code",
      "metadata": {
        "id": "onjLKc2Z6-L-",
        "colab_type": "code",
        "outputId": "a373c236-2035-4691-e50b-35683233d934",
        "colab": {
          "base_uri": "https://localhost:8080/",
          "height": 35
        }
      },
      "source": [
        "#forma do array\n",
        "two_dim.shape"
      ],
      "execution_count": 23,
      "outputs": [
        {
          "output_type": "execute_result",
          "data": {
            "text/plain": [
              "(2, 3)"
            ]
          },
          "metadata": {
            "tags": []
          },
          "execution_count": 23
        }
      ]
    },
    {
      "cell_type": "code",
      "metadata": {
        "id": "BlQaObg_7iZp",
        "colab_type": "code",
        "outputId": "894a3294-c362-45e9-df4e-2f2953fe8540",
        "colab": {
          "base_uri": "https://localhost:8080/",
          "height": 35
        }
      },
      "source": [
        "#dimensoes\n",
        "two_dim.ndim"
      ],
      "execution_count": 24,
      "outputs": [
        {
          "output_type": "execute_result",
          "data": {
            "text/plain": [
              "2"
            ]
          },
          "metadata": {
            "tags": []
          },
          "execution_count": 24
        }
      ]
    },
    {
      "cell_type": "code",
      "metadata": {
        "id": "MyjWiijc7nA5",
        "colab_type": "code",
        "outputId": "2cedc35b-dd91-49bd-e20d-10610f5a0b0d",
        "colab": {
          "base_uri": "https://localhost:8080/",
          "height": 35
        }
      },
      "source": [
        "# valor máximo\n",
        "two_dim.max()"
      ],
      "execution_count": 25,
      "outputs": [
        {
          "output_type": "execute_result",
          "data": {
            "text/plain": [
              "6"
            ]
          },
          "metadata": {
            "tags": []
          },
          "execution_count": 25
        }
      ]
    },
    {
      "cell_type": "code",
      "metadata": {
        "id": "vqsUS3A6hmOX",
        "colab_type": "code",
        "outputId": "bb292a36-42b9-4120-e246-c8a68d2f259e",
        "colab": {
          "base_uri": "https://localhost:8080/",
          "height": 35
        }
      },
      "source": [
        "#valor mínimo\n",
        "two_dim.min()"
      ],
      "execution_count": 26,
      "outputs": [
        {
          "output_type": "execute_result",
          "data": {
            "text/plain": [
              "1"
            ]
          },
          "metadata": {
            "tags": []
          },
          "execution_count": 26
        }
      ]
    },
    {
      "cell_type": "code",
      "metadata": {
        "id": "JoHiR6a_hsVT",
        "colab_type": "code",
        "outputId": "77516d81-10b0-4533-ea2d-0d428b48d46c",
        "colab": {
          "base_uri": "https://localhost:8080/",
          "height": 35
        }
      },
      "source": [
        "#media\n",
        "two_dim.mean()"
      ],
      "execution_count": 27,
      "outputs": [
        {
          "output_type": "execute_result",
          "data": {
            "text/plain": [
              "3.5"
            ]
          },
          "metadata": {
            "tags": []
          },
          "execution_count": 27
        }
      ]
    },
    {
      "cell_type": "code",
      "metadata": {
        "id": "2MnV4LbGh0Ty",
        "colab_type": "code",
        "outputId": "c7bf4a9e-e6a8-44c2-8a90-63ad3ce39626",
        "colab": {
          "base_uri": "https://localhost:8080/",
          "height": 35
        }
      },
      "source": [
        "#desvio padrão\n",
        "two_dim.std()"
      ],
      "execution_count": 28,
      "outputs": [
        {
          "output_type": "execute_result",
          "data": {
            "text/plain": [
              "1.707825127659933"
            ]
          },
          "metadata": {
            "tags": []
          },
          "execution_count": 28
        }
      ]
    },
    {
      "cell_type": "code",
      "metadata": {
        "id": "-x9CrGFch7wp",
        "colab_type": "code",
        "outputId": "0f02ed13-6621-4a38-9ef5-1d689b037d48",
        "colab": {
          "base_uri": "https://localhost:8080/",
          "height": 54
        }
      },
      "source": [
        "two_dim"
      ],
      "execution_count": 29,
      "outputs": [
        {
          "output_type": "execute_result",
          "data": {
            "text/plain": [
              "array([[1, 2, 3],\n",
              "       [4, 5, 6]])"
            ]
          },
          "metadata": {
            "tags": []
          },
          "execution_count": 29
        }
      ]
    },
    {
      "cell_type": "code",
      "metadata": {
        "id": "0IN3vcGgiDQA",
        "colab_type": "code",
        "outputId": "c29952ab-0c0d-4a06-bfb5-cf656b891d38",
        "colab": {
          "base_uri": "https://localhost:8080/",
          "height": 35
        }
      },
      "source": [
        "#tipo de dados\n",
        "two_dim.dtype"
      ],
      "execution_count": 30,
      "outputs": [
        {
          "output_type": "execute_result",
          "data": {
            "text/plain": [
              "dtype('int64')"
            ]
          },
          "metadata": {
            "tags": []
          },
          "execution_count": 30
        }
      ]
    },
    {
      "cell_type": "code",
      "metadata": {
        "id": "epcEYI_qiP3P",
        "colab_type": "code",
        "outputId": "243cc466-e6db-43dd-c9ea-220fcbe7d636",
        "colab": {
          "base_uri": "https://localhost:8080/",
          "height": 35
        }
      },
      "source": [
        "#quantidade de elementos\n",
        "two_dim.size"
      ],
      "execution_count": 31,
      "outputs": [
        {
          "output_type": "execute_result",
          "data": {
            "text/plain": [
              "6"
            ]
          },
          "metadata": {
            "tags": []
          },
          "execution_count": 31
        }
      ]
    },
    {
      "cell_type": "code",
      "metadata": {
        "id": "JK7wPjQqiWlP",
        "colab_type": "code",
        "outputId": "f736ee30-26c6-4ace-fb52-f877eeab9e5a",
        "colab": {
          "base_uri": "https://localhost:8080/",
          "height": 35
        }
      },
      "source": [
        "#quantidade em bytes\n",
        "two_dim.itemsize"
      ],
      "execution_count": 32,
      "outputs": [
        {
          "output_type": "execute_result",
          "data": {
            "text/plain": [
              "8"
            ]
          },
          "metadata": {
            "tags": []
          },
          "execution_count": 32
        }
      ]
    },
    {
      "cell_type": "code",
      "metadata": {
        "id": "PFKKV1XH31WJ",
        "colab_type": "code",
        "colab": {
          "base_uri": "https://localhost:8080/",
          "height": 35
        },
        "outputId": "582c0ff3-d16b-4368-a3ca-165ee19ce7a8"
      },
      "source": [
        "#somando os elementos array\n",
        "two_dim.sum()"
      ],
      "execution_count": 33,
      "outputs": [
        {
          "output_type": "execute_result",
          "data": {
            "text/plain": [
              "21"
            ]
          },
          "metadata": {
            "tags": []
          },
          "execution_count": 33
        }
      ]
    },
    {
      "cell_type": "markdown",
      "metadata": {
        "id": "lQXOrtCqHbtY",
        "colab_type": "text"
      },
      "source": [
        "## Transformando Arrays ##\n"
      ]
    },
    {
      "cell_type": "code",
      "metadata": {
        "id": "pOSGtoZAHfr8",
        "colab_type": "code",
        "colab": {
          "base_uri": "https://localhost:8080/",
          "height": 54
        },
        "outputId": "861f2e02-425f-4cea-9ac4-eb3ce11c0d1c"
      },
      "source": [
        "two_dim"
      ],
      "execution_count": 34,
      "outputs": [
        {
          "output_type": "execute_result",
          "data": {
            "text/plain": [
              "array([[1, 2, 3],\n",
              "       [4, 5, 6]])"
            ]
          },
          "metadata": {
            "tags": []
          },
          "execution_count": 34
        }
      ]
    },
    {
      "cell_type": "code",
      "metadata": {
        "id": "dIH4732FHlKj",
        "colab_type": "code",
        "colab": {
          "base_uri": "https://localhost:8080/",
          "height": 72
        },
        "outputId": "2d628df0-f6f9-4163-a471-8c0de21a09ab"
      },
      "source": [
        "#Transposta da matriz\n",
        "two_dim.T"
      ],
      "execution_count": 35,
      "outputs": [
        {
          "output_type": "execute_result",
          "data": {
            "text/plain": [
              "array([[1, 4],\n",
              "       [2, 5],\n",
              "       [3, 6]])"
            ]
          },
          "metadata": {
            "tags": []
          },
          "execution_count": 35
        }
      ]
    },
    {
      "cell_type": "code",
      "metadata": {
        "id": "Bwh1mTkKH20q",
        "colab_type": "code",
        "colab": {
          "base_uri": "https://localhost:8080/",
          "height": 35
        },
        "outputId": "142628ab-80c9-4032-f0c6-2d1f1590d842"
      },
      "source": [
        "#transformar em matriz de uma linha\n",
        "two_dim.reshape(-1)"
      ],
      "execution_count": 36,
      "outputs": [
        {
          "output_type": "execute_result",
          "data": {
            "text/plain": [
              "array([1, 2, 3, 4, 5, 6])"
            ]
          },
          "metadata": {
            "tags": []
          },
          "execution_count": 36
        }
      ]
    },
    {
      "cell_type": "code",
      "metadata": {
        "id": "pSwksBleIDuQ",
        "colab_type": "code",
        "colab": {}
      },
      "source": [
        "tree = np.random.random((5,3))"
      ],
      "execution_count": 0,
      "outputs": []
    },
    {
      "cell_type": "code",
      "metadata": {
        "id": "y3x1g5UFIRee",
        "colab_type": "code",
        "colab": {
          "base_uri": "https://localhost:8080/",
          "height": 109
        },
        "outputId": "d2b991c6-f2d6-4b16-feae-ad6fc0c4d5e9"
      },
      "source": [
        "tree"
      ],
      "execution_count": 39,
      "outputs": [
        {
          "output_type": "execute_result",
          "data": {
            "text/plain": [
              "array([[0.64212608, 0.54733708, 0.57081033],\n",
              "       [0.24722951, 0.2359737 , 0.59114482],\n",
              "       [0.76560618, 0.13502843, 0.236224  ],\n",
              "       [0.97682747, 0.11595272, 0.98343822],\n",
              "       [0.22862462, 0.21719552, 0.23759549]])"
            ]
          },
          "metadata": {
            "tags": []
          },
          "execution_count": 39
        }
      ]
    },
    {
      "cell_type": "code",
      "metadata": {
        "id": "pwDTPXXPIVw_",
        "colab_type": "code",
        "colab": {
          "base_uri": "https://localhost:8080/",
          "height": 35
        },
        "outputId": "8bb4107c-371f-4d4f-f03c-32bcaf90db1f"
      },
      "source": [
        "tree.shape"
      ],
      "execution_count": 40,
      "outputs": [
        {
          "output_type": "execute_result",
          "data": {
            "text/plain": [
              "(5, 3)"
            ]
          },
          "metadata": {
            "tags": []
          },
          "execution_count": 40
        }
      ]
    },
    {
      "cell_type": "code",
      "metadata": {
        "id": "gCqYIMMCIcv2",
        "colab_type": "code",
        "colab": {
          "base_uri": "https://localhost:8080/",
          "height": 72
        },
        "outputId": "c1f4e362-84e6-476e-aceb-1fc19f7a115e"
      },
      "source": [
        "#transformar a matriz em 3 linha e 5 colunas\n",
        "tree.reshape(3,5)"
      ],
      "execution_count": 41,
      "outputs": [
        {
          "output_type": "execute_result",
          "data": {
            "text/plain": [
              "array([[0.64212608, 0.54733708, 0.57081033, 0.24722951, 0.2359737 ],\n",
              "       [0.59114482, 0.76560618, 0.13502843, 0.236224  , 0.97682747],\n",
              "       [0.11595272, 0.98343822, 0.22862462, 0.21719552, 0.23759549]])"
            ]
          },
          "metadata": {
            "tags": []
          },
          "execution_count": 41
        }
      ]
    },
    {
      "cell_type": "code",
      "metadata": {
        "id": "W-0THg9pIpHE",
        "colab_type": "code",
        "colab": {
          "base_uri": "https://localhost:8080/",
          "height": 72
        },
        "outputId": "35c0d708-b467-416e-8e3a-7664317631fb"
      },
      "source": [
        "#uma linha\n",
        "tree.reshape(-1)"
      ],
      "execution_count": 42,
      "outputs": [
        {
          "output_type": "execute_result",
          "data": {
            "text/plain": [
              "array([0.64212608, 0.54733708, 0.57081033, 0.24722951, 0.2359737 ,\n",
              "       0.59114482, 0.76560618, 0.13502843, 0.236224  , 0.97682747,\n",
              "       0.11595272, 0.98343822, 0.22862462, 0.21719552, 0.23759549])"
            ]
          },
          "metadata": {
            "tags": []
          },
          "execution_count": 42
        }
      ]
    },
    {
      "cell_type": "code",
      "metadata": {
        "id": "juB5ejlvIyUN",
        "colab_type": "code",
        "colab": {
          "base_uri": "https://localhost:8080/",
          "height": 72
        },
        "outputId": "5e957318-308f-42bb-a41c-869b13d0c958"
      },
      "source": [
        "# uma linha 15 colunas\n",
        "t = tree.reshape(1,15)\n",
        "t"
      ],
      "execution_count": 43,
      "outputs": [
        {
          "output_type": "execute_result",
          "data": {
            "text/plain": [
              "array([[0.64212608, 0.54733708, 0.57081033, 0.24722951, 0.2359737 ,\n",
              "        0.59114482, 0.76560618, 0.13502843, 0.236224  , 0.97682747,\n",
              "        0.11595272, 0.98343822, 0.22862462, 0.21719552, 0.23759549]])"
            ]
          },
          "metadata": {
            "tags": []
          },
          "execution_count": 43
        }
      ]
    },
    {
      "cell_type": "code",
      "metadata": {
        "id": "62is4JSoJTms",
        "colab_type": "code",
        "colab": {
          "base_uri": "https://localhost:8080/",
          "height": 35
        },
        "outputId": "f622dca8-a2be-43c7-9f19-7fa69f26388c"
      },
      "source": [
        "#adicionando elementos\n",
        "two_dim = np.insert(two_dim, 0, 10)\n",
        "two_dim"
      ],
      "execution_count": 45,
      "outputs": [
        {
          "output_type": "execute_result",
          "data": {
            "text/plain": [
              "array([10, 10,  1,  2,  3,  4,  5,  6])"
            ]
          },
          "metadata": {
            "tags": []
          },
          "execution_count": 45
        }
      ]
    },
    {
      "cell_type": "code",
      "metadata": {
        "id": "YfBmu3cwJkfV",
        "colab_type": "code",
        "colab": {
          "base_uri": "https://localhost:8080/",
          "height": 35
        },
        "outputId": "aca8bec3-f4e0-4447-8bca-73e983844f14"
      },
      "source": [
        "# Removendo elemento\n",
        "two_dim = np.delete(two_dim, [0])\n",
        "two_dim"
      ],
      "execution_count": 47,
      "outputs": [
        {
          "output_type": "execute_result",
          "data": {
            "text/plain": [
              "array([1, 2, 3, 4, 5, 6])"
            ]
          },
          "metadata": {
            "tags": []
          },
          "execution_count": 47
        }
      ]
    },
    {
      "cell_type": "code",
      "metadata": {
        "id": "5vI_ikauJ0L4",
        "colab_type": "code",
        "colab": {}
      },
      "source": [
        "# gerando txt\n",
        "np.savetxt(\"dataset_numeros.txt\", two_dim, delimiter=',')"
      ],
      "execution_count": 0,
      "outputs": []
    },
    {
      "cell_type": "markdown",
      "metadata": {
        "id": "RMpAERquKZx0",
        "colab_type": "text"
      },
      "source": [
        "## Acessando dimensões no Array ##"
      ]
    },
    {
      "cell_type": "code",
      "metadata": {
        "id": "gThkXylRKkCw",
        "colab_type": "code",
        "colab": {
          "base_uri": "https://localhost:8080/",
          "height": 201
        },
        "outputId": "ebca5c03-c1ae-4ca6-e242-4f0c5aa015ff"
      },
      "source": [
        "# array aleatório 10 linhas  e duas colunas\n",
        "my_array = np.random.random([10,2])\n",
        "my_array"
      ],
      "execution_count": 51,
      "outputs": [
        {
          "output_type": "execute_result",
          "data": {
            "text/plain": [
              "array([[0.76046086, 0.73266951],\n",
              "       [0.43396307, 0.79898535],\n",
              "       [0.8981312 , 0.54180965],\n",
              "       [0.82887902, 0.55317269],\n",
              "       [0.60251293, 0.96340895],\n",
              "       [0.06931808, 0.87787859],\n",
              "       [0.19855179, 0.91691751],\n",
              "       [0.98790169, 0.282324  ],\n",
              "       [0.22151537, 0.71415339],\n",
              "       [0.40401262, 0.5977481 ]])"
            ]
          },
          "metadata": {
            "tags": []
          },
          "execution_count": 51
        }
      ]
    },
    {
      "cell_type": "code",
      "metadata": {
        "id": "x8x4hkKlK2_j",
        "colab_type": "code",
        "colab": {
          "base_uri": "https://localhost:8080/",
          "height": 35
        },
        "outputId": "664a1dd3-11fa-4e85-8884-163df19409ac"
      },
      "source": [
        "# imprimando  primeiro elemento (1 linha)\n",
        "my_array[0]"
      ],
      "execution_count": 52,
      "outputs": [
        {
          "output_type": "execute_result",
          "data": {
            "text/plain": [
              "array([0.76046086, 0.73266951])"
            ]
          },
          "metadata": {
            "tags": []
          },
          "execution_count": 52
        }
      ]
    },
    {
      "cell_type": "code",
      "metadata": {
        "id": "KsQf4bmJLDZk",
        "colab_type": "code",
        "colab": {
          "base_uri": "https://localhost:8080/",
          "height": 35
        },
        "outputId": "7ae2aa5e-3d8b-4b49-c3e0-67eef36f8784"
      },
      "source": [
        "# imprimindo primeiro elemento da 1 coluna\n",
        "my_array[0][0]"
      ],
      "execution_count": 53,
      "outputs": [
        {
          "output_type": "execute_result",
          "data": {
            "text/plain": [
              "0.7604608618142871"
            ]
          },
          "metadata": {
            "tags": []
          },
          "execution_count": 53
        }
      ]
    },
    {
      "cell_type": "code",
      "metadata": {
        "id": "vKwr0qq3LNSe",
        "colab_type": "code",
        "colab": {
          "base_uri": "https://localhost:8080/",
          "height": 35
        },
        "outputId": "37d1a147-d2eb-4cf5-90ed-504506925b27"
      },
      "source": [
        "# primeiro elemento da coluna 2\n",
        "my_array[0][1]"
      ],
      "execution_count": 54,
      "outputs": [
        {
          "output_type": "execute_result",
          "data": {
            "text/plain": [
              "0.7326695078436829"
            ]
          },
          "metadata": {
            "tags": []
          },
          "execution_count": 54
        }
      ]
    },
    {
      "cell_type": "code",
      "metadata": {
        "id": "5wZw-XAoLWNh",
        "colab_type": "code",
        "colab": {
          "base_uri": "https://localhost:8080/",
          "height": 35
        },
        "outputId": "b9035d8f-d539-4ecc-9418-76cb4fdf6322"
      },
      "source": [
        "# segundo elemento da segunda coluna\n",
        "my_array[1][1]"
      ],
      "execution_count": 55,
      "outputs": [
        {
          "output_type": "execute_result",
          "data": {
            "text/plain": [
              "0.798985353262283"
            ]
          },
          "metadata": {
            "tags": []
          },
          "execution_count": 55
        }
      ]
    },
    {
      "cell_type": "code",
      "metadata": {
        "id": "62Nt0raGLd_N",
        "colab_type": "code",
        "colab": {
          "base_uri": "https://localhost:8080/",
          "height": 35
        },
        "outputId": "399691ad-8d58-4de3-d8f9-8d879cce6e21"
      },
      "source": [
        "# usando vírgula\n",
        "my_array[1,1]"
      ],
      "execution_count": 56,
      "outputs": [
        {
          "output_type": "execute_result",
          "data": {
            "text/plain": [
              "0.798985353262283"
            ]
          },
          "metadata": {
            "tags": []
          },
          "execution_count": 56
        }
      ]
    },
    {
      "cell_type": "code",
      "metadata": {
        "id": "19bBB4xrLoZ2",
        "colab_type": "code",
        "colab": {
          "base_uri": "https://localhost:8080/",
          "height": 35
        },
        "outputId": "b1748ea8-c809-429e-ba79-bfb01f9f6b61"
      },
      "source": [
        "# imprimindo 3 valores\n",
        "my_array[:3,1]"
      ],
      "execution_count": 57,
      "outputs": [
        {
          "output_type": "execute_result",
          "data": {
            "text/plain": [
              "array([0.73266951, 0.79898535, 0.54180965])"
            ]
          },
          "metadata": {
            "tags": []
          },
          "execution_count": 57
        }
      ]
    },
    {
      "cell_type": "code",
      "metadata": {
        "id": "QCEc4MpiL0LE",
        "colab_type": "code",
        "colab": {
          "base_uri": "https://localhost:8080/",
          "height": 54
        },
        "outputId": "19228307-0dcf-4cab-af8c-c9f19cfea07c"
      },
      "source": [
        "# todas as linhas da coluna 2 multiplicado por 10\n",
        "my_array[:,1] * 10"
      ],
      "execution_count": 58,
      "outputs": [
        {
          "output_type": "execute_result",
          "data": {
            "text/plain": [
              "array([7.32669508, 7.98985353, 5.41809652, 5.53172685, 9.63408953,\n",
              "       8.77878587, 9.16917511, 2.82324005, 7.14153386, 5.97748102])"
            ]
          },
          "metadata": {
            "tags": []
          },
          "execution_count": 58
        }
      ]
    },
    {
      "cell_type": "code",
      "metadata": {
        "id": "eShAIrimNAbO",
        "colab_type": "code",
        "colab": {
          "base_uri": "https://localhost:8080/",
          "height": 201
        },
        "outputId": "4b675bd0-22fe-49c8-93fd-7299997b6c7d"
      },
      "source": [
        "# comparação (retorna os índices)\n",
        "my_array > 0.50"
      ],
      "execution_count": 59,
      "outputs": [
        {
          "output_type": "execute_result",
          "data": {
            "text/plain": [
              "array([[ True,  True],\n",
              "       [False,  True],\n",
              "       [ True,  True],\n",
              "       [ True,  True],\n",
              "       [ True,  True],\n",
              "       [False,  True],\n",
              "       [False,  True],\n",
              "       [ True, False],\n",
              "       [False,  True],\n",
              "       [False,  True]])"
            ]
          },
          "metadata": {
            "tags": []
          },
          "execution_count": 59
        }
      ]
    },
    {
      "cell_type": "code",
      "metadata": {
        "id": "WchKI29LNYuU",
        "colab_type": "code",
        "colab": {
          "base_uri": "https://localhost:8080/",
          "height": 72
        },
        "outputId": "e0ec7c73-b547-4119-bfa3-58b9474cad5d"
      },
      "source": [
        "# extraindo os valores maiores\n",
        "my_array[my_array > 0.50]"
      ],
      "execution_count": 61,
      "outputs": [
        {
          "output_type": "execute_result",
          "data": {
            "text/plain": [
              "array([0.76046086, 0.73266951, 0.79898535, 0.8981312 , 0.54180965,\n",
              "       0.82887902, 0.55317269, 0.60251293, 0.96340895, 0.87787859,\n",
              "       0.91691751, 0.98790169, 0.71415339, 0.5977481 ])"
            ]
          },
          "metadata": {
            "tags": []
          },
          "execution_count": 61
        }
      ]
    },
    {
      "cell_type": "markdown",
      "metadata": {
        "id": "Y2N6DlP3Nr8f",
        "colab_type": "text"
      },
      "source": [
        "## Carregar a partir de arquivos de texto ##"
      ]
    },
    {
      "cell_type": "code",
      "metadata": {
        "id": "3ZeWj1mBN0s1",
        "colab_type": "code",
        "colab": {}
      },
      "source": [
        "# Carregando\n",
        "dataset = np.loadtxt('dataset_numeros.txt', delimiter=',')"
      ],
      "execution_count": 0,
      "outputs": []
    },
    {
      "cell_type": "code",
      "metadata": {
        "id": "nuppMuoPOJ3D",
        "colab_type": "code",
        "colab": {
          "base_uri": "https://localhost:8080/",
          "height": 35
        },
        "outputId": "4d9ac490-45a5-45df-a838-2e3d424aed1d"
      },
      "source": [
        "dataset.shape"
      ],
      "execution_count": 63,
      "outputs": [
        {
          "output_type": "execute_result",
          "data": {
            "text/plain": [
              "(6,)"
            ]
          },
          "metadata": {
            "tags": []
          },
          "execution_count": 63
        }
      ]
    },
    {
      "cell_type": "code",
      "metadata": {
        "id": "shWGgE0SOR5J",
        "colab_type": "code",
        "colab": {
          "base_uri": "https://localhost:8080/",
          "height": 35
        },
        "outputId": "6934baa8-4405-42fe-f087-f3351dc723aa"
      },
      "source": [
        "dataset"
      ],
      "execution_count": 64,
      "outputs": [
        {
          "output_type": "execute_result",
          "data": {
            "text/plain": [
              "array([1., 2., 3., 4., 5., 6.])"
            ]
          },
          "metadata": {
            "tags": []
          },
          "execution_count": 64
        }
      ]
    },
    {
      "cell_type": "code",
      "metadata": {
        "id": "3VdipltROWAx",
        "colab_type": "code",
        "colab": {}
      },
      "source": [
        "#dividindo o arquivo\n",
        "a, b, c = np.loadtxt('https://raw.githubusercontent.com/robsonpiere/ds-minerando-dados-exercicios/master/modulo_05/dataset_valores.txt', skiprows=1, unpack=True)"
      ],
      "execution_count": 0,
      "outputs": []
    },
    {
      "cell_type": "code",
      "metadata": {
        "id": "JN7nvVy4PfnE",
        "colab_type": "code",
        "colab": {
          "base_uri": "https://localhost:8080/",
          "height": 35
        },
        "outputId": "78298aaa-ac31-41f6-9884-08321f4f1ef5"
      },
      "source": [
        "# array A\n",
        "a"
      ],
      "execution_count": 67,
      "outputs": [
        {
          "output_type": "execute_result",
          "data": {
            "text/plain": [
              "array([0.4839, 0.1292, 0.1781, 0.7676, 0.5993])"
            ]
          },
          "metadata": {
            "tags": []
          },
          "execution_count": 67
        }
      ]
    },
    {
      "cell_type": "code",
      "metadata": {
        "id": "R1RfJZzuPluf",
        "colab_type": "code",
        "colab": {
          "base_uri": "https://localhost:8080/",
          "height": 35
        },
        "outputId": "3d218b40-0048-4524-e7f5-1d65583659d9"
      },
      "source": [
        "# array b"
      ],
      "execution_count": 68,
      "outputs": [
        {
          "output_type": "execute_result",
          "data": {
            "text/plain": [
              "array([0.4536, 0.6875, 0.3049, 0.5801, 0.4357])"
            ]
          },
          "metadata": {
            "tags": []
          },
          "execution_count": 68
        }
      ]
    },
    {
      "cell_type": "code",
      "metadata": {
        "id": "GRkzpb_kPsbj",
        "colab_type": "code",
        "colab": {
          "base_uri": "https://localhost:8080/",
          "height": 35
        },
        "outputId": "67d95202-b249-4b1f-b6a0-fa3daf106e89"
      },
      "source": [
        "# array c\n",
        "c"
      ],
      "execution_count": 69,
      "outputs": [
        {
          "output_type": "execute_result",
          "data": {
            "text/plain": [
              "array([0.3561, 0.6565, 0.8928, 0.2038, 0.741 ])"
            ]
          },
          "metadata": {
            "tags": []
          },
          "execution_count": 69
        }
      ]
    },
    {
      "cell_type": "code",
      "metadata": {
        "id": "g4WcN-nxQYwg",
        "colab_type": "code",
        "colab": {}
      },
      "source": [
        "# carregar arquivo pulando linhas\n",
        "# converter o que não for inteiro em 0\n",
        "url = 'https://raw.githubusercontent.com/robsonpiere/ds-minerando-dados-exercicios/master/modulo_05/dataset_valores_vazio.txt'\n",
        "dataset = np.genfromtxt(url, skip_header=2, filling_values=0)"
      ],
      "execution_count": 0,
      "outputs": []
    },
    {
      "cell_type": "code",
      "metadata": {
        "id": "eRuOhWTVQ1tl",
        "colab_type": "code",
        "colab": {
          "base_uri": "https://localhost:8080/",
          "height": 109
        },
        "outputId": "38361104-6ec2-4366-c8cf-d7ab2066cdcf"
      },
      "source": [
        "dataset"
      ],
      "execution_count": 71,
      "outputs": [
        {
          "output_type": "execute_result",
          "data": {
            "text/plain": [
              "array([[0.4839, 0.4536, 0.3561],\n",
              "       [0.1292, 0.6875, 0.    ],\n",
              "       [0.1781, 0.3049, 0.8928],\n",
              "       [0.    , 0.5801, 0.2038],\n",
              "       [0.5993, 0.4357, 0.741 ]])"
            ]
          },
          "metadata": {
            "tags": []
          },
          "execution_count": 71
        }
      ]
    }
  ]
}