{
  "nbformat": 4,
  "nbformat_minor": 0,
  "metadata": {
    "colab": {
      "name": "01_Numpy.ipynb",
      "provenance": [],
      "authorship_tag": "ABX9TyP1noAkm4W2zy0wH0M3bhoH",
      "include_colab_link": true
    },
    "kernelspec": {
      "name": "python3",
      "display_name": "Python 3"
    }
  },
  "cells": [
    {
      "cell_type": "markdown",
      "metadata": {
        "id": "view-in-github",
        "colab_type": "text"
      },
      "source": [
        "<a href=\"https://colab.research.google.com/github/robsonpiere/ds-minerando-dados-exercicios/blob/master/modulo_05/01_Numpy.ipynb\" target=\"_parent\"><img src=\"https://colab.research.google.com/assets/colab-badge.svg\" alt=\"Open In Colab\"/></a>"
      ]
    },
    {
      "cell_type": "code",
      "metadata": {
        "id": "yiq538V82OFy",
        "colab_type": "code",
        "colab": {}
      },
      "source": [
        "# Numpy #"
      ],
      "execution_count": 0,
      "outputs": []
    },
    {
      "cell_type": "code",
      "metadata": {
        "id": "LxjRzMHU2U3a",
        "colab_type": "code",
        "colab": {}
      },
      "source": [
        "import numpy as np"
      ],
      "execution_count": 0,
      "outputs": []
    },
    {
      "cell_type": "code",
      "metadata": {
        "id": "SpqMQhm32Z7p",
        "colab_type": "code",
        "colab": {}
      },
      "source": [
        "# criando array de uma dimensão\n",
        "one_dim = np.array([1,2,3,4])"
      ],
      "execution_count": 0,
      "outputs": []
    }
  ]
}