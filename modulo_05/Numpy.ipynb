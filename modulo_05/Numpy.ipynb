{
    "metadata": {
        "kernelspec": {
            "name": "python3",
            "display_name": "Python 3"
        },
        "language_info": {
            "name": "python",
            "version": "3.7.4",
            "mimetype": "text/x-python",
            "codemirror_mode": {
                "name": "ipython",
                "version": 3
            },
            "pygments_lexer": "ipython3",
            "nbconvert_exporter": "python",
            "file_extension": ".py"
        }
    },
    "nbformat_minor": 2,
    "nbformat": 4,
    "cells": [
        {
            "cell_type": "code",
            "source": [
                "import numpy as np"
            ],
            "metadata": {
                "azdata_cell_guid": "847982f4-2630-4936-b99b-342772ce62ab"
            },
            "outputs": [],
            "execution_count": 5
        },
        {
            "cell_type": "code",
            "source": [
                "#array de uma dimensão\r\n",
                "\r\n",
                "one_dim = np.array([1,2,3,4])"
            ],
            "metadata": {
                "azdata_cell_guid": "1b013c96-3b19-4da3-917c-ae1dd4ad8300",
                "tags": []
            },
            "outputs": [],
            "execution_count": 7
        }
    ]
}