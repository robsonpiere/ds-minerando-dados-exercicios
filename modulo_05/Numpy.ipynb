{
  "nbformat": 4,
  "nbformat_minor": 0,
  "metadata": {
    "kernelspec": {
      "name": "python3",
      "display_name": "Python 3"
    },
    "language_info": {
      "name": "python",
      "version": "3.7.4",
      "mimetype": "text/x-python",
      "codemirror_mode": {
        "name": "ipython",
        "version": 3
      },
      "pygments_lexer": "ipython3",
      "nbconvert_exporter": "python",
      "file_extension": ".py"
    },
    "colab": {
      "name": "Numpy.ipynb",
      "provenance": []
    }
  },
  "cells": [
    {
      "cell_type": "code",
      "metadata": {
        "azdata_cell_guid": "847982f4-2630-4936-b99b-342772ce62ab",
        "id": "zfNWDtmA1nU0",
        "colab_type": "code",
        "colab": {}
      },
      "source": [
        "import numpy as np"
      ],
      "execution_count": 0,
      "outputs": []
    },
    {
      "cell_type": "code",
      "metadata": {
        "azdata_cell_guid": "1b013c96-3b19-4da3-917c-ae1dd4ad8300",
        "tags": [],
        "id": "dCYniKrB1nU7",
        "colab_type": "code",
        "colab": {}
      },
      "source": [
        "#array de uma dimensão\r\n",
        "\r\n",
        "one_dim = np.array([1,2,3,4])"
      ],
      "execution_count": 0,
      "outputs": []
    }
  ]
}